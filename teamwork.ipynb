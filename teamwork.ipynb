{
 "cells": [
  {
   "cell_type": "code",
   "execution_count": 30,
   "metadata": {},
   "outputs": [],
   "source": [
    "import math\n",
    "import random\n",
    "import numpy as np\n",
    "from matplotlib import pyplot as plt"
   ]
  },
  {
   "cell_type": "code",
   "execution_count": 31,
   "metadata": {},
   "outputs": [],
   "source": [
    "curr_blob_id = 0\n",
    "curr_game_id = 0\n",
    "num_strategies = 2"
   ]
  },
  {
   "cell_type": "markdown",
   "metadata": {},
   "source": [
    "A blob's strategy is an array representing probability distributions over team (0) and solo (1). `strategy[i]` denotes the probability of playing the ith strategy."
   ]
  },
  {
   "cell_type": "code",
   "execution_count": 32,
   "metadata": {},
   "outputs": [],
   "source": [
    "class Blob:\n",
    "    def __init__(self, strategy, type, speed = 1, size = 1, health = 1):\n",
    "\n",
    "        global curr_blob_id\n",
    "\n",
    "        self.id = curr_blob_id\n",
    "        curr_blob_id += 1\n",
    "        self.strategy = strategy\n",
    "        self.speed = speed\n",
    "        self.size = size\n",
    "        self.health = health\n",
    "        self.util = None\n",
    "        self.type = type    # including this temporarily specifically for the primer sim. 0/1"
   ]
  },
  {
   "cell_type": "markdown",
   "metadata": {},
   "source": [
    "`blobs` is a list of `blob` objects."
   ]
  },
  {
   "cell_type": "code",
   "execution_count": 63,
   "metadata": {},
   "outputs": [],
   "source": [
    "class Game:\n",
    "    def __init__(self, sr, tt, ts, st, ss, blobs, num_trees, num_team, num_solo, num_episodes):\n",
    "\n",
    "        global curr_game_id\n",
    "\n",
    "        self.id = curr_game_id\n",
    "        curr_game_id += 1\n",
    "        self.solo_reward = sr\n",
    "        self.reward_matrix = np.array([[tt, ts], [st, ss]])\n",
    "        self.blobs = blobs\n",
    "        self.num_trees = num_trees\n",
    "        self.num_team = num_team    # again specifically for the primer sim\n",
    "        self.num_solo = num_solo\n",
    "        self.num_team_init = num_team\n",
    "        self.num_solo_init = num_solo\n",
    "        self.team_util = 0\n",
    "        self.solo_util = 0\n",
    "        self.num_episodes = num_episodes\n",
    "        self.team_avg = []\n",
    "        self.solo_avg = []\n",
    "        self.team_percentage = []\n",
    "        self.solo_percentage = []\n",
    "        "
   ]
  },
  {
   "cell_type": "code",
   "execution_count": 34,
   "metadata": {},
   "outputs": [],
   "source": [
    "def episode(game, blob1, blob2):\n",
    "\n",
    "    global num_strategies\n",
    "\n",
    "    action1 = np.random.choice(range(num_strategies), p = blob1.strategy)\n",
    "    action2 = np.random.choice(range(num_strategies), p = blob2.strategy)\n",
    "\n",
    "    util1 = game.reward_matrix[action1][action2]\n",
    "    util2 = game.reward_matrix[action2][action1]\n",
    "\n",
    "    blob1.util = util1\n",
    "    blob2.util = util2\n",
    "\n",
    "    return [blob1, blob2, util1, util2]"
   ]
  },
  {
   "cell_type": "code",
   "execution_count": 57,
   "metadata": {},
   "outputs": [],
   "source": [
    "def reproduce(blobs):\n",
    "    new_blobs = []\n",
    "    new_team = 0\n",
    "    new_solo = 0\n",
    "    for blob in blobs:\n",
    "        # print(blob.util)\n",
    "        for i in range(math.floor(blob.util)):\n",
    "            new_blobs.append(Blob(blob.strategy, blob.type))\n",
    "\n",
    "        if blob.type == 0:\n",
    "            new_team += math.floor(blob.util)\n",
    "        else:\n",
    "            new_solo += math.floor(blob.util)\n",
    "\n",
    "        random_num = random.uniform(0, 1)\n",
    "        \n",
    "        if random_num <= (blob.util - math.floor(blob.util)):\n",
    "            new_blobs.append(Blob(blob.strategy, blob.type))\n",
    "            \n",
    "            if blob.type == 0:\n",
    "                new_team += 1\n",
    "            else:\n",
    "                new_solo += 1\n",
    "\n",
    "    return new_blobs, new_team, new_solo"
   ]
  },
  {
   "cell_type": "code",
   "execution_count": 58,
   "metadata": {},
   "outputs": [],
   "source": [
    "def simulate(game):\n",
    "    for i in range(game.num_episodes):\n",
    "        game.team_percentage.append(game.num_team/(game.num_team+game.num_solo)*100)\n",
    "        game.solo_percentage.append(game.num_solo/(game.num_team+game.num_solo)*100)\n",
    "\n",
    "        num_blobs = len(game.blobs)\n",
    "        permut = game.blobs\n",
    "        random.shuffle(permut)\n",
    "        # print(game.blobs)\n",
    "        # print(permut)\n",
    "\n",
    "        if num_blobs > 2*game.num_trees:\n",
    "            permut = permut[:2*game.num_trees]\n",
    "            num_blobs = 2*game.num_trees\n",
    "\n",
    "        if num_blobs%2 == 1:\n",
    "            permut[-1].util = game.solo_reward\n",
    "            num_blobs -= 1        \n",
    "\n",
    "        # print(permut)\n",
    "        for i in range(0, num_blobs, 2):\n",
    "            # print(permut[i], permut[i+1])\n",
    "            blob1 = permut[i]\n",
    "            blob2 = permut[i+1]\n",
    "\n",
    "            blob1, blob2, util1, util2 = episode(game, blob1, blob2)\n",
    "\n",
    "            permut[i] = blob1\n",
    "            permut[i+1] = blob2\n",
    "\n",
    "            if blob1.type == 0:\n",
    "                game.team_util += util1\n",
    "            else:\n",
    "                game.solo_util += util1\n",
    "\n",
    "            if blob2.type == 0:\n",
    "                game.team_util += util2\n",
    "            else:\n",
    "                game.solo_util += util2\n",
    "\n",
    "        \n",
    "            \n",
    "        # avg_team_util = game.team_util/game.num_team\n",
    "        # avg_solo_util = game.solo_util/game.num_solo\n",
    "\n",
    "        # game.team_avg.append(avg_team_util)\n",
    "        # game.solo_avg.append(avg_solo_util)\n",
    "\n",
    "        game.blobs, game.num_team, game.num_solo = reproduce(permut)"
   ]
  },
  {
   "cell_type": "code",
   "execution_count": 66,
   "metadata": {},
   "outputs": [],
   "source": [
    "def game_stats(game):\n",
    "    print(\"Inital percentage of team blobs:\", game.num_team_init/(game.num_team_init+game.num_solo_init)*100)\n",
    "    print(\"Initial percentage of solo blobs:\", game.num_solo_init/(game.num_team_init+game.num_solo_init)*100)\n",
    "    plt.plot(game.team_percentage)\n",
    "    plt.plot(game.solo_percentage)\n",
    "    plt.legend(['team_percentage', 'solo_percentage'])"
   ]
  },
  {
   "cell_type": "code",
   "execution_count": 69,
   "metadata": {},
   "outputs": [],
   "source": [
    "blobs = []\n",
    "for i in range(10):\n",
    "    blobs.append(Blob(np.array([1, 0]), 1))\n",
    "for i in range(90):\n",
    "    blobs.append(Blob(np.array([0, 1]), 0))\n",
    "\n",
    "game = Game(2, 5/4, 6/4, 2/4, 3/4, blobs, 50, 90, 10, 50)\n",
    "simulate(game)"
   ]
  },
  {
   "cell_type": "code",
   "execution_count": 70,
   "metadata": {},
   "outputs": [
    {
     "name": "stdout",
     "output_type": "stream",
     "text": [
      "Inital percentage of team blobs: 90.0\n",
      "Initial percentage of solo blobs: 10.0\n"
     ]
    },
    {
     "data": {
      "image/png": "[encoded data removed]",
      "text/plain": [
       "<Figure size 640x480 with 1 Axes>"
      ]
     },
     "metadata": {},
     "output_type": "display_data"
    }
   ],
   "source": [
    "game_stats(game)"
   ]
  },
  {
   "cell_type": "code",
   "execution_count": null,
   "metadata": {},
   "outputs": [],
   "source": []
  }
 ],
 "metadata": {
  "kernelspec": {
   "display_name": "Python 3",
   "language": "python",
   "name": "python3"
  },
  "language_info": {
   "codemirror_mode": {
    "name": "ipython",
    "version": 3
   },
   "file_extension": ".py",
   "mimetype": "text/x-python",
   "name": "python",
   "nbconvert_exporter": "python",
   "pygments_lexer": "ipython3",
   "version": "3.10.12"
  }
 },
 "nbformat": 4,
 "nbformat_minor": 2
}
